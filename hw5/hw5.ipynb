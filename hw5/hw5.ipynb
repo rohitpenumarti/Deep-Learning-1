{
 "cells": [
  {
   "cell_type": "code",
   "execution_count": 13,
   "metadata": {},
   "outputs": [],
   "source": [
    "import torch\n",
    "import torch.nn as nn\n",
    "import torchvision\n",
    "import torchvision.transforms as transforms\n",
    "import torch.nn.functional as F\n",
    "import seaborn as sns\n",
    "import matplotlib.pyplot as plt\n",
    "import numpy as np\n",
    "import os\n",
    "from torchsummary import summary\n",
    "from sklearn.metrics import confusion_matrix as cfm"
   ]
  },
  {
   "cell_type": "markdown",
   "metadata": {},
   "source": [
    "# Problem 1"
   ]
  },
  {
   "cell_type": "code",
   "execution_count": 154,
   "metadata": {},
   "outputs": [
    {
     "name": "stdout",
     "output_type": "stream",
     "text": [
      "Files already downloaded and verified\n",
      "Files already downloaded and verified\n"
     ]
    }
   ],
   "source": [
    "batch_size = 50\n",
    "\n",
    "cifar_trainset = torchvision.datasets.CIFAR10(\n",
    "    root = os.getcwd(),\n",
    "    train = True,\n",
    "    transform = transforms.ToTensor(), \n",
    "    download = True\n",
    ")\n",
    "\n",
    "cifar_train_loader = torch.utils.data.DataLoader(cifar_trainset, batch_size=batch_size, shuffle=True)\n",
    "\n",
    "cifar_testset = torchvision.datasets.CIFAR10(\n",
    "    root = os.getcwd(),\n",
    "    train = False,\n",
    "    transform = transforms.ToTensor(),\n",
    "    download = True\n",
    ")\n",
    "\n",
    "cifar_test_loader = torch.utils.data.DataLoader(cifar_testset, batch_size=batch_size, shuffle=False)"
   ]
  },
  {
   "cell_type": "code",
   "execution_count": 155,
   "metadata": {},
   "outputs": [
    {
     "name": "stdout",
     "output_type": "stream",
     "text": [
      "----------------------------------------------------------------\n",
      "        Layer (type)               Output Shape         Param #\n",
      "================================================================\n",
      "            Linear-1            [-1, 1, 1, 256]         786,688\n",
      "           Dropout-2            [-1, 1, 1, 256]               0\n",
      "            Linear-3            [-1, 1, 1, 128]          32,896\n",
      "           Dropout-4            [-1, 1, 1, 128]               0\n",
      "            Linear-5             [-1, 1, 1, 10]           1,290\n",
      "================================================================\n",
      "Total params: 820,874\n",
      "Trainable params: 820,874\n",
      "Non-trainable params: 0\n",
      "----------------------------------------------------------------\n",
      "Input size (MB): 0.01\n",
      "Forward/backward pass size (MB): 0.01\n",
      "Params size (MB): 3.13\n",
      "Estimated Total Size (MB): 3.15\n",
      "----------------------------------------------------------------\n"
     ]
    }
   ],
   "source": [
    "class Net1(nn.Module):\n",
    "    def __init__(self):\n",
    "        super(Net1, self).__init__()\n",
    "        self.hidden1 = nn.Linear(3*32*32, 256)\n",
    "        self.hidden2 = nn.Linear(256, 128)\n",
    "        self.output = nn.Linear(128, 10)\n",
    "        self.dropout = nn.Dropout(0.3)\n",
    "\n",
    "    def forward(self, x):\n",
    "        x = F.relu(self.hidden1(x))\n",
    "        x = self.dropout(x)\n",
    "        x = F.relu(self.hidden2(x))\n",
    "        x = self.dropout(x)\n",
    "        x = self.output(x)\n",
    "        return x\n",
    "\n",
    "model1 = Net1()\n",
    "summary(model1, input_size=(1, 1, 3*32*32))"
   ]
  },
  {
   "cell_type": "code",
   "execution_count": 156,
   "metadata": {},
   "outputs": [
    {
     "name": "stdout",
     "output_type": "stream",
     "text": [
      "Epochs: 1, Iteration: 1000, Loss: 1.8492709398269653, Accuracy: 25.259999999999998\n",
      "Epochs: 2, Iteration: 2000, Loss: 1.910331130027771, Accuracy: 32.550000000000004\n",
      "Epochs: 3, Iteration: 3000, Loss: 1.7772815227508545, Accuracy: 35.696\n",
      "Epochs: 4, Iteration: 4000, Loss: 1.7605689764022827, Accuracy: 37.112\n",
      "Epochs: 5, Iteration: 5000, Loss: 1.6276189088821411, Accuracy: 38.45\n",
      "Epochs: 6, Iteration: 6000, Loss: 1.519078016281128, Accuracy: 39.804\n",
      "Epochs: 7, Iteration: 7000, Loss: 1.7946220636367798, Accuracy: 40.802\n",
      "Epochs: 8, Iteration: 8000, Loss: 1.5893592834472656, Accuracy: 41.738\n",
      "Epochs: 9, Iteration: 9000, Loss: 1.376906156539917, Accuracy: 42.338\n",
      "Epochs: 10, Iteration: 10000, Loss: 1.5649025440216064, Accuracy: 43.042\n",
      "Epochs: 11, Iteration: 11000, Loss: 1.6559338569641113, Accuracy: 43.663999999999994\n",
      "Epochs: 12, Iteration: 12000, Loss: 1.599697232246399, Accuracy: 44.076\n",
      "Epochs: 13, Iteration: 13000, Loss: 1.5356231927871704, Accuracy: 44.584\n",
      "Epochs: 14, Iteration: 14000, Loss: 1.6579179763793945, Accuracy: 44.878\n",
      "Epochs: 15, Iteration: 15000, Loss: 1.4626420736312866, Accuracy: 45.708\n",
      "Epochs: 16, Iteration: 16000, Loss: 1.7177668809890747, Accuracy: 45.794000000000004\n",
      "Epochs: 17, Iteration: 17000, Loss: 1.52973210811615, Accuracy: 46.184\n",
      "Epochs: 18, Iteration: 18000, Loss: 1.7496246099472046, Accuracy: 46.354\n",
      "Epochs: 19, Iteration: 19000, Loss: 1.523255467414856, Accuracy: 46.824\n",
      "Epochs: 20, Iteration: 20000, Loss: 1.8040827512741089, Accuracy: 47.146\n",
      "Epochs: 21, Iteration: 21000, Loss: 1.459021806716919, Accuracy: 47.3\n",
      "Epochs: 22, Iteration: 22000, Loss: 1.5229321718215942, Accuracy: 47.593999999999994\n",
      "Epochs: 23, Iteration: 23000, Loss: 1.567411184310913, Accuracy: 47.964\n",
      "Epochs: 24, Iteration: 24000, Loss: 1.3529614210128784, Accuracy: 48.244\n",
      "Epochs: 25, Iteration: 25000, Loss: 1.7501728534698486, Accuracy: 48.748000000000005\n"
     ]
    }
   ],
   "source": [
    "def train(input_size, epochs, optimizer, loss_func, model, train_loader):\n",
    "    count = 0\n",
    "    for epoch in range(epochs):\n",
    "        correct = 0\n",
    "        for images, labels in train_loader:\n",
    "            count += 1\n",
    "            inp = images.view(-1, input_size)\n",
    "\n",
    "            outputs = model(inp)\n",
    "            loss = loss_func(outputs, labels)\n",
    "\n",
    "            optimizer.zero_grad()\n",
    "            loss.backward()\n",
    "\n",
    "            optimizer.step()\n",
    "\n",
    "            predictions = torch.max(outputs, 1)[1]\n",
    "            correct += (predictions == labels).sum().numpy()\n",
    "\n",
    "        print(f\"Epochs: {epoch+1}, Iteration: {count}, Loss: {loss.data}, Accuracy: {100*(correct/len(train_loader.dataset))}\")\n",
    "\n",
    "loss_func = nn.CrossEntropyLoss()\n",
    "optimizer = torch.optim.Adam(model1.parameters(), lr=1e-4, weight_decay=1e-4)\n",
    "epochs = 25\n",
    "train(3*32*32, epochs, optimizer, loss_func, model1, cifar_train_loader)"
   ]
  },
  {
   "cell_type": "code",
   "execution_count": 182,
   "metadata": {},
   "outputs": [],
   "source": [
    "def test(input_size, loss_func, model, test_loader, total_size, plot_cfm=False, plot_weights=False):\n",
    "    with torch.no_grad():\n",
    "        total = 0\n",
    "        correct = 0\n",
    "\n",
    "        y_pred = np.zeros((len(test_loader), int(total_size/len(test_loader))))\n",
    "        y_true = y_pred.copy()\n",
    "        for i, (images, labels) in enumerate(test_loader):\n",
    "            model.eval()\n",
    "            device = \"cpu\"\n",
    "            images = images.to(device)\n",
    "\n",
    "            test = images.view(-1, input_size)\n",
    "            outputs = model(test).cpu()\n",
    "            loss = loss_func(outputs, labels)\n",
    "\n",
    "            predictions = torch.max(outputs, 1)[1]\n",
    "            correct += (predictions == labels).sum().numpy()\n",
    "            total += len(labels)\n",
    "            y_pred[i] = predictions\n",
    "            y_true[i] = labels\n",
    "\n",
    "        accuracy = 100*(correct/total)\n",
    "        print(f\"Loss: {loss.data}, Accuracy: {accuracy}\")\n",
    "\n",
    "        if (plot_cfm):\n",
    "            conf = cfm(y_true.flatten(), y_pred.flatten())\n",
    "            xticks = np.linspace(1, 10, num=10, dtype=np.int64)\n",
    "            yticks = xticks.copy()\n",
    "            ax = sns.heatmap(conf)\n",
    "            ax.set_xticklabels(xticks)\n",
    "            ax.set_yticklabels(yticks)\n",
    "            return conf\n",
    "\n",
    "        if (plot_weights):\n",
    "            for name, param in model.named_parameters():\n",
    "                if name == \"hidden.weight\" or name == \"output.weight\":\n",
    "                    hist = torch.histc(param.data).numpy()\n",
    "                    plt.figure()\n",
    "                    plt.plot(range(len(hist)), hist)\n",
    "                    plt.xlabel(\"bins\")\n",
    "                    plt.ylabel(\"Frequency\")\n",
    "\n",
    "            plt.show()"
   ]
  },
  {
   "cell_type": "markdown",
   "metadata": {},
   "source": [
    "## Part a)"
   ]
  },
  {
   "cell_type": "code",
   "execution_count": 183,
   "metadata": {},
   "outputs": [
    {
     "name": "stdout",
     "output_type": "stream",
     "text": [
      "Final Training Loss and Accuracy:\n",
      "Loss: 1.4039660692214966, Accuracy: 53.412000000000006\n"
     ]
    }
   ],
   "source": [
    "print(\"Final Training Loss and Accuracy:\")\n",
    "test(3*32*32, loss_func, model1, cifar_train_loader, len(cifar_trainset))"
   ]
  },
  {
   "cell_type": "code",
   "execution_count": 184,
   "metadata": {},
   "outputs": [
    {
     "name": "stdout",
     "output_type": "stream",
     "text": [
      "Testing Loss and Accuracy:\n",
      "Loss: 1.352978229522705, Accuracy: 50.739999999999995\n",
      "Confusion Matrix:\n",
      "[[569  33  44  25  26  17  30  41 176  39]\n",
      " [ 42 636   3  17   7  19  20  30  95 131]\n",
      " [ 96  29 266 102 135  72 165  90  29  16]\n",
      " [ 28  23  58 328  40 177 182  79  34  51]\n",
      " [ 64  15  98  57 382  46 173 120  34  11]\n",
      " [ 21  18  72 199  47 352 117 113  38  23]\n",
      " [  8  18  40  73  84  44 669  27  18  19]\n",
      " [ 36  20  32  53  57  75  39 635  13  40]\n",
      " [102  50   5  20  12  18  17  18 707  51]\n",
      " [ 50 188   3  30   8  20  30  54  87 530]]\n"
     ]
    },
    {
     "data": {
      "image/png": "[encoded data removed]",
      "text/plain": [
       "<Figure size 432x288 with 2 Axes>"
      ]
     },
     "metadata": {
      "needs_background": "light"
     },
     "output_type": "display_data"
    }
   ],
   "source": [
    "print(\"Testing Loss and Accuracy:\")\n",
    "conf = test(3*32*32, loss_func, model1, cifar_test_loader, len(cifar_testset), True)\n",
    "print(f\"Confusion Matrix:\\n{conf}\")"
   ]
  },
  {
   "cell_type": "markdown",
   "metadata": {},
   "source": [
    "## Part b)"
   ]
  },
  {
   "cell_type": "code",
   "execution_count": 185,
   "metadata": {},
   "outputs": [
    {
     "name": "stdout",
     "output_type": "stream",
     "text": [
      "Class 9 is most likely to be confused with class 1\n",
      "Class 10 is most likely to be confused with class 2\n",
      "Class 7 is most likely to be confused with class 3\n",
      "Class 7 is most likely to be confused with class 4\n",
      "Class 7 is most likely to be confused with class 5\n",
      "Class 4 is most likely to be confused with class 6\n",
      "Class 5 is most likely to be confused with class 7\n",
      "Class 6 is most likely to be confused with class 8\n",
      "Class 1 is most likely to be confused with class 9\n",
      "Class 2 is most likely to be confused with class 10\n"
     ]
    }
   ],
   "source": [
    "most_likely_conf = np.argsort(conf)[:, -2]+1\n",
    "for i, m in enumerate(most_likely_conf):\n",
    "    print(f\"Class {m} is most likely to be confused with class {i+1}\")"
   ]
  },
  {
   "cell_type": "markdown",
   "metadata": {},
   "source": [
    "## Part c)"
   ]
  },
  {
   "cell_type": "code",
   "execution_count": 186,
   "metadata": {},
   "outputs": [
    {
     "name": "stdout",
     "output_type": "stream",
     "text": [
      "The two classes that are most likely to be confused overall are classes 3 and 4 in descending order of confusion\n"
     ]
    }
   ],
   "source": [
    "diags = np.diagonal(conf)\n",
    "two_most_conf = np.argsort(diags)[:2]+1\n",
    "print(f\"The two classes that are most likely to be confused overall are classes {two_most_conf[0]} and {two_most_conf[1]} in descending order of confusion\")"
   ]
  },
  {
   "cell_type": "markdown",
   "metadata": {},
   "source": [
    "# Problem 2"
   ]
  },
  {
   "cell_type": "code",
   "execution_count": 162,
   "metadata": {},
   "outputs": [],
   "source": [
    "batch_size = 100\n",
    "\n",
    "mnist_trainset = torchvision.datasets.FashionMNIST(\n",
    "    root = os.getcwd(),\n",
    "    train = True,\n",
    "    download = True,\n",
    "    transform = transforms.ToTensor()\n",
    ")\n",
    "\n",
    "mnist_train_loader = torch.utils.data.DataLoader(mnist_trainset, batch_size=batch_size, shuffle=True)\n",
    "\n",
    "mnist_testset = torchvision.datasets.FashionMNIST(\n",
    "    root = os.getcwd(),\n",
    "    train = False,\n",
    "    download = True,\n",
    "    transform = transforms.ToTensor()\n",
    ")\n",
    "\n",
    "mnist_test_loader = torch.utils.data.DataLoader(mnist_testset, batch_size=batch_size, shuffle=False)"
   ]
  },
  {
   "cell_type": "markdown",
   "metadata": {},
   "source": [
    "## First Model"
   ]
  },
  {
   "cell_type": "code",
   "execution_count": 163,
   "metadata": {},
   "outputs": [
    {
     "name": "stdout",
     "output_type": "stream",
     "text": [
      "----------------------------------------------------------------\n",
      "        Layer (type)               Output Shape         Param #\n",
      "================================================================\n",
      "            Linear-1            [-1, 1, 1, 128]         100,480\n",
      "            Linear-2             [-1, 1, 1, 10]           1,290\n",
      "================================================================\n",
      "Total params: 101,770\n",
      "Trainable params: 101,770\n",
      "Non-trainable params: 0\n",
      "----------------------------------------------------------------\n",
      "Input size (MB): 0.00\n",
      "Forward/backward pass size (MB): 0.00\n",
      "Params size (MB): 0.39\n",
      "Estimated Total Size (MB): 0.39\n",
      "----------------------------------------------------------------\n"
     ]
    }
   ],
   "source": [
    "class Net21(nn.Module):\n",
    "    def __init__(self):\n",
    "        super(Net21, self).__init__()\n",
    "        self.hidden = nn.Linear(28*28, 128)\n",
    "        self.output = nn.Linear(128, 10)\n",
    "\n",
    "    def forward(self, x):\n",
    "        x = F.relu(self.hidden(x))\n",
    "        x = self.output(x)\n",
    "        return x\n",
    "\n",
    "model_mnist1 = Net21()\n",
    "summary(model_mnist1, input_size=(1, 1, 28*28))"
   ]
  },
  {
   "cell_type": "code",
   "execution_count": 164,
   "metadata": {},
   "outputs": [
    {
     "name": "stdout",
     "output_type": "stream",
     "text": [
      "Epochs: 1, Iteration: 600, Loss: 0.558773934841156, Accuracy: 69.18333333333334\n",
      "Epochs: 2, Iteration: 1200, Loss: 0.4620964825153351, Accuracy: 80.33\n",
      "Epochs: 3, Iteration: 1800, Loss: 0.49546486139297485, Accuracy: 82.57166666666666\n",
      "Epochs: 4, Iteration: 2400, Loss: 0.555185079574585, Accuracy: 83.645\n",
      "Epochs: 5, Iteration: 3000, Loss: 0.4303450286388397, Accuracy: 84.41833333333332\n",
      "Epochs: 6, Iteration: 3600, Loss: 0.5488499402999878, Accuracy: 84.94166666666668\n",
      "Epochs: 7, Iteration: 4200, Loss: 0.4064674377441406, Accuracy: 85.385\n",
      "Epochs: 8, Iteration: 4800, Loss: 0.40752941370010376, Accuracy: 85.54166666666667\n",
      "Epochs: 9, Iteration: 5400, Loss: 0.38283270597457886, Accuracy: 85.90666666666667\n",
      "Epochs: 10, Iteration: 6000, Loss: 0.4455450475215912, Accuracy: 86.115\n",
      "Epochs: 11, Iteration: 6600, Loss: 0.3175296485424042, Accuracy: 86.36\n",
      "Epochs: 12, Iteration: 7200, Loss: 0.42137372493743896, Accuracy: 86.59333333333333\n",
      "Epochs: 13, Iteration: 7800, Loss: 0.4270581007003784, Accuracy: 86.76\n",
      "Epochs: 14, Iteration: 8400, Loss: 0.45094597339630127, Accuracy: 86.85333333333334\n",
      "Epochs: 15, Iteration: 9000, Loss: 0.31005409359931946, Accuracy: 87.00166666666667\n",
      "Epochs: 16, Iteration: 9600, Loss: 0.37797337770462036, Accuracy: 87.14666666666666\n",
      "Epochs: 17, Iteration: 10200, Loss: 0.37248361110687256, Accuracy: 87.30499999999999\n",
      "Epochs: 18, Iteration: 10800, Loss: 0.5204298496246338, Accuracy: 87.42999999999999\n",
      "Epochs: 19, Iteration: 11400, Loss: 0.37771254777908325, Accuracy: 87.50833333333333\n",
      "Epochs: 20, Iteration: 12000, Loss: 0.3521174192428589, Accuracy: 87.69333333333333\n",
      "Epochs: 21, Iteration: 12600, Loss: 0.356349378824234, Accuracy: 87.82333333333334\n",
      "Epochs: 22, Iteration: 13200, Loss: 0.21311186254024506, Accuracy: 87.85833333333333\n",
      "Epochs: 23, Iteration: 13800, Loss: 0.40014708042144775, Accuracy: 87.95333333333333\n",
      "Epochs: 24, Iteration: 14400, Loss: 0.3154783844947815, Accuracy: 88.09166666666667\n",
      "Epochs: 25, Iteration: 15000, Loss: 0.2935734689235687, Accuracy: 88.20333333333333\n",
      "Epochs: 26, Iteration: 15600, Loss: 0.29928767681121826, Accuracy: 88.25833333333334\n",
      "Epochs: 27, Iteration: 16200, Loss: 0.26277339458465576, Accuracy: 88.30666666666667\n",
      "Epochs: 28, Iteration: 16800, Loss: 0.47486430406570435, Accuracy: 88.37666666666667\n",
      "Epochs: 29, Iteration: 17400, Loss: 0.5156955122947693, Accuracy: 88.52\n",
      "Epochs: 30, Iteration: 18000, Loss: 0.43933814764022827, Accuracy: 88.58333333333334\n",
      "Epochs: 31, Iteration: 18600, Loss: 0.28397032618522644, Accuracy: 88.65333333333332\n",
      "Epochs: 32, Iteration: 19200, Loss: 0.39774027466773987, Accuracy: 88.77000000000001\n",
      "Epochs: 33, Iteration: 19800, Loss: 0.34909409284591675, Accuracy: 88.84666666666666\n",
      "Epochs: 34, Iteration: 20400, Loss: 0.44376102089881897, Accuracy: 88.88000000000001\n",
      "Epochs: 35, Iteration: 21000, Loss: 0.44326838850975037, Accuracy: 88.9\n",
      "Epochs: 36, Iteration: 21600, Loss: 0.3554155230522156, Accuracy: 89.07166666666667\n",
      "Epochs: 37, Iteration: 22200, Loss: 0.3961636424064636, Accuracy: 89.18666666666667\n",
      "Epochs: 38, Iteration: 22800, Loss: 0.26870274543762207, Accuracy: 89.22\n",
      "Epochs: 39, Iteration: 23400, Loss: 0.26006728410720825, Accuracy: 89.29333333333334\n",
      "Epochs: 40, Iteration: 24000, Loss: 0.3724044859409332, Accuracy: 89.36\n"
     ]
    }
   ],
   "source": [
    "loss_func = nn.CrossEntropyLoss()\n",
    "optimizer1 = torch.optim.Adam(model_mnist1.parameters(), lr=0.0001)\n",
    "epochs = 40\n",
    "train(28*28, epochs, optimizer1, loss_func, model_mnist1, mnist_train_loader)"
   ]
  },
  {
   "cell_type": "code",
   "execution_count": 165,
   "metadata": {},
   "outputs": [
    {
     "name": "stdout",
     "output_type": "stream",
     "text": [
      "Loss: 0.41373467445373535, Accuracy: 87.41\n"
     ]
    },
    {
     "data": {
      "image/png": "[encoded data removed]",
      "text/plain": [
       "<Figure size 432x288 with 1 Axes>"
      ]
     },
     "metadata": {
      "needs_background": "light"
     },
     "output_type": "display_data"
    },
    {
     "data": {
      "image/png": "[encoded data removed]",
      "text/plain": [
       "<Figure size 432x288 with 1 Axes>"
      ]
     },
     "metadata": {
      "needs_background": "light"
     },
     "output_type": "display_data"
    }
   ],
   "source": [
    "test(28*28 ,loss_func, model_mnist1, mnist_test_loader, len(mnist_testset), plot_weights=True)"
   ]
  },
  {
   "cell_type": "markdown",
   "metadata": {},
   "source": [
    "## Second Model"
   ]
  },
  {
   "cell_type": "code",
   "execution_count": 166,
   "metadata": {},
   "outputs": [
    {
     "name": "stdout",
     "output_type": "stream",
     "text": [
      "----------------------------------------------------------------\n",
      "        Layer (type)               Output Shape         Param #\n",
      "================================================================\n",
      "            Linear-1             [-1, 1, 1, 48]          37,680\n",
      "           Dropout-2             [-1, 1, 1, 48]               0\n",
      "            Linear-3             [-1, 1, 1, 10]             490\n",
      "================================================================\n",
      "Total params: 38,170\n",
      "Trainable params: 38,170\n",
      "Non-trainable params: 0\n",
      "----------------------------------------------------------------\n",
      "Input size (MB): 0.00\n",
      "Forward/backward pass size (MB): 0.00\n",
      "Params size (MB): 0.15\n",
      "Estimated Total Size (MB): 0.15\n",
      "----------------------------------------------------------------\n"
     ]
    }
   ],
   "source": [
    "class Net22(nn.Module):\n",
    "    def __init__(self):\n",
    "        super(Net22, self).__init__()\n",
    "        self.hidden = nn.Linear(28*28, 48)\n",
    "        self.dropout = nn.Dropout(0.2)\n",
    "        self.output = nn.Linear(48, 10)\n",
    "\n",
    "    def forward(self, x):\n",
    "        x = F.relu(self.hidden(x))\n",
    "        x = self.dropout(x)\n",
    "        x = self.output(x)\n",
    "        return x\n",
    "\n",
    "model_mnist2 = Net22()\n",
    "summary(model_mnist2, input_size=(1, 1, 28*28))"
   ]
  },
  {
   "cell_type": "code",
   "execution_count": 167,
   "metadata": {},
   "outputs": [
    {
     "name": "stdout",
     "output_type": "stream",
     "text": [
      "Epochs: 1, Iteration: 600, Loss: 0.9805886745452881, Accuracy: 61.75333333333334\n",
      "Epochs: 2, Iteration: 1200, Loss: 0.8425123691558838, Accuracy: 73.85333333333334\n",
      "Epochs: 3, Iteration: 1800, Loss: 0.5461411476135254, Accuracy: 77.61\n",
      "Epochs: 4, Iteration: 2400, Loss: 0.4412006735801697, Accuracy: 79.34666666666666\n",
      "Epochs: 5, Iteration: 3000, Loss: 0.512324869632721, Accuracy: 80.81166666666667\n",
      "Epochs: 6, Iteration: 3600, Loss: 0.38565754890441895, Accuracy: 81.39333333333333\n",
      "Epochs: 7, Iteration: 4200, Loss: 0.5554752945899963, Accuracy: 82.14666666666666\n",
      "Epochs: 8, Iteration: 4800, Loss: 0.4795358180999756, Accuracy: 82.8\n",
      "Epochs: 9, Iteration: 5400, Loss: 0.35045865178108215, Accuracy: 83.19166666666666\n",
      "Epochs: 10, Iteration: 6000, Loss: 0.5023282766342163, Accuracy: 83.61\n",
      "Epochs: 11, Iteration: 6600, Loss: 0.4590279459953308, Accuracy: 83.68333333333334\n",
      "Epochs: 12, Iteration: 7200, Loss: 0.39936143159866333, Accuracy: 84.11166666666666\n",
      "Epochs: 13, Iteration: 7800, Loss: 0.5139667987823486, Accuracy: 84.24833333333333\n",
      "Epochs: 14, Iteration: 8400, Loss: 0.38646090030670166, Accuracy: 84.56666666666666\n",
      "Epochs: 15, Iteration: 9000, Loss: 0.45817458629608154, Accuracy: 84.69333333333333\n",
      "Epochs: 16, Iteration: 9600, Loss: 0.43985843658447266, Accuracy: 85.07333333333334\n",
      "Epochs: 17, Iteration: 10200, Loss: 0.40335479378700256, Accuracy: 85.17833333333333\n",
      "Epochs: 18, Iteration: 10800, Loss: 0.3898807466030121, Accuracy: 85.34166666666667\n",
      "Epochs: 19, Iteration: 11400, Loss: 0.3622461259365082, Accuracy: 85.54\n",
      "Epochs: 20, Iteration: 12000, Loss: 0.478718101978302, Accuracy: 85.885\n",
      "Epochs: 21, Iteration: 12600, Loss: 0.40872618556022644, Accuracy: 85.67833333333333\n",
      "Epochs: 22, Iteration: 13200, Loss: 0.38680604100227356, Accuracy: 85.86666666666667\n",
      "Epochs: 23, Iteration: 13800, Loss: 0.4341905117034912, Accuracy: 86.05666666666667\n",
      "Epochs: 24, Iteration: 14400, Loss: 0.36767664551734924, Accuracy: 86.17\n",
      "Epochs: 25, Iteration: 15000, Loss: 0.3834112584590912, Accuracy: 86.115\n",
      "Epochs: 26, Iteration: 15600, Loss: 0.3479008376598358, Accuracy: 86.27833333333334\n",
      "Epochs: 27, Iteration: 16200, Loss: 0.3577968180179596, Accuracy: 86.30333333333333\n",
      "Epochs: 28, Iteration: 16800, Loss: 0.5433279871940613, Accuracy: 86.54333333333334\n",
      "Epochs: 29, Iteration: 17400, Loss: 0.4572354853153229, Accuracy: 86.56666666666666\n",
      "Epochs: 30, Iteration: 18000, Loss: 0.37587398290634155, Accuracy: 86.64333333333335\n",
      "Epochs: 31, Iteration: 18600, Loss: 0.3032349646091461, Accuracy: 86.78833333333333\n",
      "Epochs: 32, Iteration: 19200, Loss: 0.2902930974960327, Accuracy: 86.86833333333334\n",
      "Epochs: 33, Iteration: 19800, Loss: 0.38793712854385376, Accuracy: 86.92\n",
      "Epochs: 34, Iteration: 20400, Loss: 0.4139725863933563, Accuracy: 87.02\n",
      "Epochs: 35, Iteration: 21000, Loss: 0.30683568120002747, Accuracy: 87.29333333333334\n",
      "Epochs: 36, Iteration: 21600, Loss: 0.3897041082382202, Accuracy: 87.12833333333333\n",
      "Epochs: 37, Iteration: 22200, Loss: 0.3234265446662903, Accuracy: 87.18\n",
      "Epochs: 38, Iteration: 22800, Loss: 0.44238361716270447, Accuracy: 87.21833333333333\n",
      "Epochs: 39, Iteration: 23400, Loss: 0.33533602952957153, Accuracy: 87.36166666666666\n",
      "Epochs: 40, Iteration: 24000, Loss: 0.3859798014163971, Accuracy: 87.28666666666666\n"
     ]
    }
   ],
   "source": [
    "loss_func = nn.CrossEntropyLoss()\n",
    "optimizer2 = torch.optim.Adam(model_mnist2.parameters(), lr=0.0001, weight_decay=1e-4)\n",
    "train(28*28, epochs, optimizer2, loss_func, model_mnist2, mnist_train_loader)"
   ]
  },
  {
   "cell_type": "code",
   "execution_count": 168,
   "metadata": {},
   "outputs": [
    {
     "name": "stdout",
     "output_type": "stream",
     "text": [
      "Loss: 0.444126695394516, Accuracy: 86.68\n"
     ]
    },
    {
     "data": {
      "image/png": "[encoded data removed]",
      "text/plain": [
       "<Figure size 432x288 with 1 Axes>"
      ]
     },
     "metadata": {
      "needs_background": "light"
     },
     "output_type": "display_data"
    },
    {
     "data": {
      "image/png": "[encoded data removed]",
      "text/plain": [
       "<Figure size 432x288 with 1 Axes>"
      ]
     },
     "metadata": {
      "needs_background": "light"
     },
     "output_type": "display_data"
    }
   ],
   "source": [
    "test(28*28, loss_func, model_mnist2, mnist_test_loader, len(mnist_testset), plot_weights=True)"
   ]
  },
  {
   "cell_type": "markdown",
   "metadata": {},
   "source": [
    "### Note: The first histogram plot for both models corresponds with the input layer weights and the second histogram corresponds with the hidden layer weights. The plots appear to be sharper for the model with regularization. Also, the frequencies seem to be lower, by approximately a factor of 3, across the board for the model with regularization. This seems to be because the effect from L2 regularization leads to the weights to be constrained within smaller values which causes the frequencies to go down."
   ]
  }
 ],
 "metadata": {
  "interpreter": {
   "hash": "c56ca3609d35666c535b21e8eca1bf907b12d90c8862756640afa76760a7a6be"
  },
  "kernelspec": {
   "display_name": "Python 3.8.5 ('base')",
   "language": "python",
   "name": "python3"
  },
  "language_info": {
   "codemirror_mode": {
    "name": "ipython",
    "version": 3
   },
   "file_extension": ".py",
   "mimetype": "text/x-python",
   "name": "python",
   "nbconvert_exporter": "python",
   "pygments_lexer": "ipython3",
   "version": "3.8.5"
  },
  "orig_nbformat": 4
 },
 "nbformat": 4,
 "nbformat_minor": 2
}
