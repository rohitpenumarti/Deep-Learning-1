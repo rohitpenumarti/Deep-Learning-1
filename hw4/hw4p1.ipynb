{
 "cells": [
  {
   "cell_type": "code",
   "execution_count": 41,
   "metadata": {},
   "outputs": [],
   "source": [
    "import numpy as np\n",
    "import matplotlib.pyplot as plt\n",
    "import json\n",
    "import h5py"
   ]
  },
  {
   "cell_type": "markdown",
   "metadata": {},
   "source": [
    "# Part a)"
   ]
  },
  {
   "cell_type": "code",
   "execution_count": 42,
   "metadata": {},
   "outputs": [],
   "source": [
    "params_file_path = \"mnist_network_params.hdf5\"\n",
    "input_size = 784\n",
    "hidden_neurons1 = 200\n",
    "hidden_neurons2 = 100\n",
    "output_size = 10\n",
    "\n",
    "with h5py.File(params_file_path, 'r') as hf:\n",
    "    b1 = hf[\"b1\"][:]\n",
    "    W1 = hf[\"W1\"][:]\n",
    "    b2 = hf[\"b2\"][:]\n",
    "    W2 = hf[\"W2\"][:]\n",
    "    b3 = hf[\"b3\"][:]\n",
    "    W3 = hf[\"W3\"][:]\n",
    "\n",
    "assert b1.shape[0] == hidden_neurons1, 'Error: wrong dimensions'\n",
    "assert W1.shape == (hidden_neurons1, input_size), 'Error: wrong dimensions'\n",
    "assert b2.shape[0] == hidden_neurons2, 'Error: wrong dimensions'\n",
    "assert W2.shape == (hidden_neurons2, hidden_neurons1), 'Error: wrong dimensions'\n",
    "assert b3.shape[0] == output_size, 'Error: wrong dimensions'\n",
    "assert W3.shape == (output_size, hidden_neurons2), 'Error: wrong dimensions'"
   ]
  },
  {
   "cell_type": "markdown",
   "metadata": {},
   "source": [
    "## Part b)"
   ]
  },
  {
   "cell_type": "code",
   "execution_count": 43,
   "metadata": {},
   "outputs": [],
   "source": [
    "test_fpath = \"mnist_testdata.hdf5\"\n",
    "\n",
    "with h5py.File(test_fpath, 'r') as hf:\n",
    "    X_test = hf[\"xdata\"][:]\n",
    "    y_test = hf[\"ydata\"][:]"
   ]
  },
  {
   "cell_type": "markdown",
   "metadata": {},
   "source": [
    "## Part c)"
   ]
  },
  {
   "cell_type": "code",
   "execution_count": 47,
   "metadata": {},
   "outputs": [],
   "source": [
    "def ReLU(x):\n",
    "    return np.maximum(x, 0)\n",
    "\n",
    "def softmax(x):\n",
    "    return np.exp(x)/(np.sum(np.exp(x)))"
   ]
  },
  {
   "cell_type": "markdown",
   "metadata": {},
   "source": [
    "## Part d)"
   ]
  },
  {
   "cell_type": "code",
   "execution_count": 81,
   "metadata": {},
   "outputs": [],
   "source": [
    "def predict(W_, b_, X, h, out):\n",
    "    A_curr = X\n",
    "    for j, (W, b) in enumerate(zip(W_, b_)):\n",
    "        A_prev = A_curr\n",
    "        if j == len(W_)-1:\n",
    "            A_curr = out(np.matmul(W, A_prev)+b.reshape(-1, 1))\n",
    "        else:\n",
    "            A_curr = h(np.matmul(W, A_prev)+b.reshape(-1, 1))\n",
    "\n",
    "    return A_curr\n",
    "\n",
    "def accuracy(y_hat, y_true):\n",
    "    y_without_one_hot = np.argmax(y_true, axis=1)\n",
    "    y_pred = np.argmax(y_hat.T, axis=1)\n",
    "\n",
    "    return np.sum(np.isclose(y_pred, y_without_one_hot))/np.size(y_without_one_hot)"
   ]
  },
  {
   "cell_type": "code",
   "execution_count": 82,
   "metadata": {},
   "outputs": [
    {
     "name": "stdout",
     "output_type": "stream",
     "text": [
      "[[-0.04676606 -0.7432499  -0.89800704 ... -0.5056697  -0.21968397\n",
      "   0.6264842 ]\n",
      " [-0.12434147  1.3617387   0.8213851  ... -0.37373757 -0.24041173\n",
      "  -0.8706932 ]\n",
      " [ 0.11705812 -0.56707084 -0.15798393 ...  0.08161549 -0.33307675\n",
      "  -0.34547558]\n",
      " ...\n",
      " [ 0.67154044  0.45871648 -0.20191436 ... -0.11021949  0.4332611\n",
      "  -0.03974548]\n",
      " [ 0.11296198 -0.25859082  0.7112756  ...  0.19703871 -1.0872923\n",
      "   0.75346667]\n",
      " [ 0.15800525 -1.4868072   0.9800809  ... -0.26829603 -0.41387236\n",
      "  -0.04761074]]\n",
      "[[ 0.9857017   5.9043865   3.331508   ...  0.8624698   0.55312693\n",
      "   2.9944055 ]\n",
      " [ 0.7414726   2.8602679   1.325291   ...  1.9891527   0.88959527\n",
      "   5.6838984 ]\n",
      " [ 0.5055626  -0.34051692 -0.03443816 ... -0.26081187 -0.02871107\n",
      "  -2.2518198 ]\n",
      " ...\n",
      " [ 1.7608414   2.0496273   2.1202528  ...  1.0616713  -1.2242094\n",
      "   2.9358375 ]\n",
      " [ 1.1614716   5.075304    0.15898398 ... -3.8665285  -2.0363178\n",
      "   2.2195299 ]\n",
      " [ 0.21516165  1.2171414   0.38013092 ...  2.2413921   0.5345063\n",
      "   3.4546323 ]]\n",
      "[[ -0.6834991   -2.554329    -2.950936   ...  -5.7988753   -2.700999\n",
      "    2.4713187 ]\n",
      " [ -1.5112649    6.2542057   10.210415   ...  -5.819418    -5.781477\n",
      "   -4.854338  ]\n",
      " [  5.264289    20.821991     0.95316404 ...  -7.973568   -10.13363\n",
      "    1.6200472 ]\n",
      " ...\n",
      " [ 19.145056    -8.806324     1.346361   ...   3.8935454   -5.051892\n",
      "  -17.389467  ]\n",
      " [ -0.24301937   5.196594     2.3760428  ...   0.72705287  10.830273\n",
      "   -3.3591337 ]\n",
      " [  4.060841   -22.3616      -4.16432    ...   9.033485    -4.890209\n",
      "   -5.9077635 ]]\n",
      "The total number of correctly classified points is: 9790, for a test accuracy of: 0.979\n"
     ]
    }
   ],
   "source": [
    "W = [W1, W2, W3]\n",
    "b = [b1, b2, b3]\n",
    "\n",
    "pred_data = predict(W, b, X_test.T, ReLU, softmax)\n",
    "test_accuracy = accuracy(pred_data, y_test)\n",
    "print(f'The total number of correctly classified points is: {int(test_accuracy*y_test.shape[0])}, for a test accuracy of: {test_accuracy}')"
   ]
  },
  {
   "cell_type": "code",
   "execution_count": 63,
   "metadata": {},
   "outputs": [
    {
     "data": {
      "image/png": "[encoded data removed]",
      "text/plain": [
       "<Figure size 432x288 with 1 Axes>"
      ]
     },
     "metadata": {
      "needs_background": "light"
     },
     "output_type": "display_data"
    },
    {
     "data": {
      "image/png": "[encoded data removed]",
      "text/plain": [
       "<Figure size 432x288 with 1 Axes>"
      ]
     },
     "metadata": {
      "needs_background": "light"
     },
     "output_type": "display_data"
    },
    {
     "data": {
      "image/png": "[encoded data removed]",
      "text/plain": [
       "<Figure size 432x288 with 1 Axes>"
      ]
     },
     "metadata": {
      "needs_background": "light"
     },
     "output_type": "display_data"
    },
    {
     "data": {
      "image/png": "[encoded data removed]",
      "text/plain": [
       "<Figure size 432x288 with 1 Axes>"
      ]
     },
     "metadata": {
      "needs_background": "light"
     },
     "output_type": "display_data"
    },
    {
     "data": {
      "image/png": "[encoded data removed]",
      "text/plain": [
       "<Figure size 432x288 with 1 Axes>"
      ]
     },
     "metadata": {
      "needs_background": "light"
     },
     "output_type": "display_data"
    },
    {
     "data": {
      "image/png": "[encoded data removed]",
      "text/plain": [
       "<Figure size 432x288 with 1 Axes>"
      ]
     },
     "metadata": {
      "needs_background": "light"
     },
     "output_type": "display_data"
    }
   ],
   "source": [
    "num_correct = 0\n",
    "num_incorrect = 0\n",
    "while num_correct+num_incorrect < 6:\n",
    "    rand_idx = np.random.randint(0, np.size(pred_data))\n",
    "    y_without_one_hot = np.argmax(y_test, axis=1)\n",
    "    \n",
    "    if pred_data[rand_idx][\"classification\"] == y_without_one_hot[rand_idx] and num_correct <= 2:\n",
    "        num_correct += 1\n",
    "        plt.figure()\n",
    "        plt.imshow(X_test[rand_idx].reshape(28,28))\n",
    "        plt.title('Correctly Classified')\n",
    "        plt.savefig(f\"Image{rand_idx}.png\")\n",
    "    elif pred_data[rand_idx][\"classification\"] != y_without_one_hot[rand_idx] and num_incorrect <= 3:\n",
    "        num_incorrect += 1\n",
    "        plt.figure()\n",
    "        plt.imshow(X_test[rand_idx].reshape(28,28))\n",
    "        plt.title('Incorrectly Classified')\n",
    "        plt.savefig(f\"Image{rand_idx}.png\")"
   ]
  }
 ],
 "metadata": {
  "interpreter": {
   "hash": "c56ca3609d35666c535b21e8eca1bf907b12d90c8862756640afa76760a7a6be"
  },
  "kernelspec": {
   "display_name": "Python 3.8.5 ('base')",
   "language": "python",
   "name": "python3"
  },
  "language_info": {
   "codemirror_mode": {
    "name": "ipython",
    "version": 3
   },
   "file_extension": ".py",
   "mimetype": "text/x-python",
   "name": "python",
   "nbconvert_exporter": "python",
   "pygments_lexer": "ipython3",
   "version": "3.8.5"
  },
  "orig_nbformat": 4
 },
 "nbformat": 4,
 "nbformat_minor": 2
}
