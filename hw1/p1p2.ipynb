{
 "cells": [
  {
   "cell_type": "code",
   "execution_count": 4,
   "metadata": {},
   "outputs": [],
   "source": [
    "import random\n",
    "import matplotlib.pyplot as plt"
   ]
  },
  {
   "cell_type": "markdown",
   "metadata": {},
   "source": [
    "# Problem 1\n",
    "## Part a)"
   ]
  },
  {
   "cell_type": "code",
   "execution_count": 21,
   "metadata": {},
   "outputs": [
    {
     "name": "stdout",
     "output_type": "stream",
     "text": [
      "The total number of heads in 50 trials is: 34.\n",
      "The longest run of heads is: 7.\n"
     ]
    }
   ],
   "source": [
    "def biased_cf_experiment(p, n):\n",
    "    cfs = []\n",
    "\n",
    "    for i in range(n): \n",
    "        r = random.random()\n",
    "        if r < p:\n",
    "            cfs.append(1)\n",
    "        else:\n",
    "            cfs.append(0)\n",
    "\n",
    "    num_heads = sum(cfs)\n",
    "\n",
    "    h_count = 0\n",
    "    running_counts = []\n",
    "    max_h_count = 0\n",
    "    for i in cfs:\n",
    "        if i:\n",
    "            h_count += 1\n",
    "        else:\n",
    "            running_counts.append(h_count)\n",
    "            if h_count > max_h_count:\n",
    "                max_h_count = h_count\n",
    "            h_count = 0\n",
    "    return num_heads, max_h_count, running_counts\n",
    "\n",
    "p_head = 0.7\n",
    "n = 50\n",
    "num_heads, max_h_count = biased_cf_experiment(p_head, n)[:2]\n",
    "print(\"The total number of heads in \" + str(n) + \" trials is: \" + str(num_heads) + \".\\nThe longest run of heads is: \" + str(max_h_count) + \".\")"
   ]
  },
  {
   "cell_type": "markdown",
   "metadata": {},
   "source": [
    "### We should expect around 35 heads given that the probability of heads is 0.7 and the number of flips is 50. So, the expectation would be np = 50(0.7)=35."
   ]
  },
  {
   "cell_type": "markdown",
   "metadata": {},
   "source": [
    "## Part b)"
   ]
  },
  {
   "cell_type": "code",
   "execution_count": 22,
   "metadata": {},
   "outputs": [
    {
     "data": {
      "text/plain": [
       "(array([  7.,  20.,  59., 136., 224., 249., 187.,  92.,  22.,   4.]),\n",
       " array([25., 27., 29., 31., 33., 35., 37., 39., 41., 43., 45.]),\n",
       " <BarContainer object of 10 artists>)"
      ]
     },
     "execution_count": 22,
     "metadata": {},
     "output_type": "execute_result"
    },
    {
     "data": {
      "image/png": "[encoded data removed]",
      "text/plain": [
       "<Figure size 432x288 with 4 Axes>"
      ]
     },
     "metadata": {
      "needs_background": "light"
     },
     "output_type": "display_data"
    }
   ],
   "source": [
    "p_head = 0.7\n",
    "n = 50\n",
    "\n",
    "n1 = 50\n",
    "num_heads50 = []\n",
    "\n",
    "for i in range(n1):\n",
    "    num_heads50.append(biased_cf_experiment(p_head, n)[0])\n",
    "\n",
    "n2 = 100\n",
    "num_heads100 = []\n",
    "\n",
    "for i in range(n2):\n",
    "    num_heads100.append(biased_cf_experiment(p_head, n)[0])\n",
    "\n",
    "n3 = 200\n",
    "num_heads200 = []\n",
    "\n",
    "for i in range(n3):\n",
    "    num_heads200.append(biased_cf_experiment(p_head, n)[0])\n",
    "\n",
    "n4 = 1000\n",
    "num_heads1000 = []\n",
    "\n",
    "for i in range(n4):\n",
    "    num_heads1000.append(biased_cf_experiment(p_head, n)[0])\n",
    "\n",
    "fig, axs = plt.subplots(2, 2)\n",
    "fig.text(0.5, 0.04, 'Number of Heads', ha='center')\n",
    "fig.text(0.04, 0.5, 'Frequency', va='center', rotation='vertical')\n",
    "axs[0, 0].hist(num_heads50)\n",
    "axs[1, 0].hist(num_heads100)\n",
    "axs[0, 1].hist(num_heads200)\n",
    "axs[1, 1].hist(num_heads1000)"
   ]
  },
  {
   "cell_type": "markdown",
   "metadata": {},
   "source": [
    "### It seems that as the number of iterations to repeat the experiment increases, we notice that the distribution of the number of heads starts to resemble a normal distribution with mean np = 50(0.7) = 35 and variance of np(1-p) = 50(0.7)(0.3) = 10.5.\n",
    "\n",
    "## Part c)"
   ]
  },
  {
   "cell_type": "code",
   "execution_count": 23,
   "metadata": {},
   "outputs": [
    {
     "data": {
      "image/png": "[encoded data removed]",
      "text/plain": [
       "<Figure size 432x288 with 1 Axes>"
      ]
     },
     "metadata": {
      "needs_background": "light"
     },
     "output_type": "display_data"
    }
   ],
   "source": [
    "p_head = 0.7\n",
    "n = 500\n",
    "\n",
    "running_counts = biased_cf_experiment(p_head, n)[2]\n",
    "\n",
    "plt.hist(running_counts)\n",
    "plt.xlabel('Running Heads Counts')\n",
    "plt.ylabel('Frequency')\n",
    "plt.show()"
   ]
  },
  {
   "cell_type": "markdown",
   "metadata": {},
   "source": [
    "### It makes sense to see that the a running heads count of 0 would occur the most often because tails will appear approximately 30% of the time and so whenever a tails appears, theres a 30% chance of another one appearing which would result in the 0 running heads. As the number of running heads increases, we would expect a downward trend in the frequency of this number of running heads which is seen in the histogram above."
   ]
  },
  {
   "cell_type": "markdown",
   "metadata": {},
   "source": [
    "# Problem 2"
   ]
  },
  {
   "cell_type": "code",
   "execution_count": 31,
   "metadata": {},
   "outputs": [
    {
     "name": "stdout",
     "output_type": "stream",
     "text": [
      "As the number of realizations increases, we see that the average value is: 8.6846\n"
     ]
    },
    {
     "data": {
      "text/plain": [
       "(array([ 784., 1751., 2441., 2190., 1419., 1182.,  160.,   45.,   19.,\n",
       "           9.]),\n",
       " array([ 5. ,  6.2,  7.4,  8.6,  9.8, 11. , 12.2, 13.4, 14.6, 15.8, 17. ]),\n",
       " <BarContainer object of 10 artists>)"
      ]
     },
     "execution_count": 31,
     "metadata": {},
     "output_type": "execute_result"
    },
    {
     "data": {
      "image/png": "[encoded data removed]",
      "text/plain": [
       "<Figure size 432x288 with 3 Axes>"
      ]
     },
     "metadata": {
      "needs_background": "light"
     },
     "output_type": "display_data"
    }
   ],
   "source": [
    "def generate_N():\n",
    "    sum = 0\n",
    "    n = 0\n",
    "\n",
    "    while sum <= 4:\n",
    "        x_i = random.uniform(0, 1)\n",
    "        sum += x_i\n",
    "        n += 1\n",
    "\n",
    "    return n\n",
    "\n",
    "n1 = 100\n",
    "n_vals100 = []\n",
    "for i in range(n1):\n",
    "    n_vals100.append(generate_N())\n",
    "\n",
    "n2 = 1000\n",
    "n_vals1000 = []\n",
    "for i in range(n2):\n",
    "    n_vals1000.append(generate_N())\n",
    "\n",
    "n3 = 10000\n",
    "n_vals10000 = []\n",
    "for i in range(n3):\n",
    "    n_vals10000.append(generate_N())\n",
    "\n",
    "\n",
    "avg_val = sum(n_vals10000)/len(n_vals10000)\n",
    "print(\"As the number of realizations increases, we see that the average value is: \" + str(avg_val))\n",
    "\n",
    "fig, ax = plt.subplots(3)\n",
    "fig.text(0.5, 0.04, 'N values', ha='center')\n",
    "fig.text(0.04, 0.5, 'Frequency', va='center', rotation='vertical')\n",
    "ax[0].hist(n_vals100)\n",
    "ax[1].hist(n_vals1000)\n",
    "ax[2].hist(n_vals10000)"
   ]
  },
  {
   "cell_type": "markdown",
   "metadata": {},
   "source": [
    "### As we can see E(N) seems to approach 8.6666 as the number of realizations of N grows larger. This matches up with what is expected. The distribution described is similar to the uniform sum distribution. Using the wolfram alpha page on uniform sum distribution, we see that for n = 4, the expected minimum number of uniform random variables whos sum exceeds n, we get the following expression: (1/6)(6e^4 -18e^3 +12e^2 -e)=8.6666... So, as we can see, as the number of realizations increases, we see that the average value approaches E(N) as desired."
   ]
  }
 ],
 "metadata": {
  "interpreter": {
   "hash": "c56ca3609d35666c535b21e8eca1bf907b12d90c8862756640afa76760a7a6be"
  },
  "kernelspec": {
   "display_name": "Python 3.8.5 64-bit ('base': conda)",
   "language": "python",
   "name": "python3"
  },
  "language_info": {
   "codemirror_mode": {
    "name": "ipython",
    "version": 3
   },
   "file_extension": ".py",
   "mimetype": "text/x-python",
   "name": "python",
   "nbconvert_exporter": "python",
   "pygments_lexer": "ipython3",
   "version": "3.8.5"
  },
  "orig_nbformat": 4
 },
 "nbformat": 4,
 "nbformat_minor": 2
}
